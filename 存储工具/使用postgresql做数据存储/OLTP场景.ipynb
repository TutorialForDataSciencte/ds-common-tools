{
 "cells": [
  {
   "cell_type": "markdown",
   "metadata": {},
   "source": [
    "# OLTP场景\n",
    "\n",
    "pg天生为OLTP场景设计,"
   ]
  }
 ],
 "metadata": {
  "kernelspec": {
   "display_name": "PostgreSQL",
   "language": "sql",
   "name": "postgres"
  },
  "language_info": {
   "codemirror_mode": "sql",
   "file_extension": ".sql",
   "mimetype": "text/x-postgresql",
   "name": "PostgreSQL"
  }
 },
 "nbformat": 4,
 "nbformat_minor": 2
}
