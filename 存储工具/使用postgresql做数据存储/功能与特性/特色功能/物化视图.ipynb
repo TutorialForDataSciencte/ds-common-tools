{
 "cells": [
  {
   "cell_type": "markdown",
   "metadata": {},
   "source": [
    "# 物化视图\n",
    "\n",
    "视图基本是所有关系数据库的标配,但物化视图算是pg的特色功能了.所谓物化视图,是指的"
   ]
  }
 ],
 "metadata": {
  "kernelspec": {
   "display_name": "PostgreSQL",
   "language": "sql",
   "name": "postgres"
  },
  "language_info": {
   "codemirror_mode": "sql",
   "file_extension": ".sql",
   "mimetype": "text/x-postgresql",
   "name": "PostgreSQL"
  }
 },
 "nbformat": 4,
 "nbformat_minor": 2
}
