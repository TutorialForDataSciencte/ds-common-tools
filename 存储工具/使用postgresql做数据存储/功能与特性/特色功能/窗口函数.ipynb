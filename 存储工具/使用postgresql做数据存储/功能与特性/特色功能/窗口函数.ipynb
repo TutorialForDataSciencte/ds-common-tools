{
 "cells": [
  {
   "cell_type": "markdown",
   "metadata": {},
   "source": [
    "# 窗口函数\n",
    "\n",
    "窗口函数是sql标准中定义的技术,常用于olap业务"
   ]
  }
 ],
 "metadata": {
  "kernelspec": {
   "display_name": "PostgreSQL",
   "language": "sql",
   "name": "postgres"
  },
  "language_info": {
   "codemirror_mode": "sql",
   "file_extension": ".sql",
   "mimetype": "text/x-postgresql",
   "name": "PostgreSQL"
  }
 },
 "nbformat": 4,
 "nbformat_minor": 2
}
